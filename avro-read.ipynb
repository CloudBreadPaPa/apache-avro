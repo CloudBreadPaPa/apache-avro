{
 "cells": [
  {
   "cell_type": "code",
   "execution_count": 80,
   "metadata": {},
   "outputs": [],
   "source": [
    "# Review - Capture Event Hubs data in Azure Storage and read it by using Python (azure-eventhub)\n",
    "# https://docs.microsoft.com/en-us/azure/event-hubs/event-hubs-capture-python\n",
    "\n",
    "# Finish eventhub message loop sink\n",
    "# https://www.sqler.com/board_Azure/1102215"
   ]
  },
  {
   "cell_type": "markdown",
   "metadata": {},
   "source": [
    "## install packages\n",
    "\n",
    "- `pip install avro-python3`\n",
    "- `pip install azure-storage-blob`\n",
    "- `pip install python-dotenv`"
   ]
  },
  {
   "cell_type": "code",
   "execution_count": 82,
   "metadata": {},
   "outputs": [],
   "source": [
    "import os\n",
    "import json\n",
    "from avro.datafile import DataFileReader\n",
    "from avro.io import DatumReader"
   ]
  },
  {
   "cell_type": "code",
   "execution_count": 83,
   "metadata": {},
   "outputs": [],
   "source": [
    "# Read avro sample file from data directory\n",
    "sample_file = 'data/event_hub_sample.avro'\n",
    "reader = DataFileReader(open(sample_file, 'rb'), DatumReader())"
   ]
  },
  {
   "cell_type": "code",
   "execution_count": 84,
   "metadata": {},
   "outputs": [
    {
     "data": {
      "text/plain": [
       "{'avro.codec': b'null',\n",
       " 'avro.schema': b'{\"type\":\"record\",\"name\":\"EventData\",\"namespace\":\"Microsoft.ServiceBus.Messaging\",\"fields\":[{\"name\":\"SequenceNumber\",\"type\":\"long\"},{\"name\":\"Offset\",\"type\":\"string\"},{\"name\":\"EnqueuedTimeUtc\",\"type\":\"string\"},{\"name\":\"SystemProperties\",\"type\":{\"type\":\"map\",\"values\":[\"long\",\"double\",\"string\",\"bytes\"]}},{\"name\":\"Properties\",\"type\":{\"type\":\"map\",\"values\":[\"long\",\"double\",\"string\",\"bytes\",\"null\"]}},{\"name\":\"Body\",\"type\":[\"null\",\"bytes\"]}]}'}"
      ]
     },
     "execution_count": 84,
     "metadata": {},
     "output_type": "execute_result"
    }
   ],
   "source": [
    "# Print meta data and schema\n",
    "reader.meta"
   ]
  },
  {
   "cell_type": "code",
   "execution_count": 85,
   "metadata": {},
   "outputs": [
    {
     "data": {
      "text/plain": [
       "'[{\"product_num\": 5, \"product_price\": 5273, \"product_description\": \"1pq5EDoT5u\", \"product_production_dt\": \"2021-10-28 03:15:38.314706\"}, {\"product_num\": 8, \"product_price\": 6028, \"product_description\": \"zl8E2UIgHz\", \"product_production_dt\": \"2021-10-28 03:15:39.316801\"}, {\"product_num\": 6, \"product_price\": 448, \"product_description\": \"qlfqPcJkbI\", \"product_production_dt\": \"2021-10-28 03:15:40.319594\"}, {\"product_num\": 9, \"product_price\": 6313, \"product_description\": \"Ys1xvquiuV\", \"product_production_dt\": \"2021-10-28 03:15:41.322595\"}, {\"product_num\": 8, \"product_price\": 7685, \"product_description\": \"uhxCO8LFoW\", \"product_production_dt\": \"2021-10-28 03:15:42.324536\"}]'"
      ]
     },
     "execution_count": 85,
     "metadata": {},
     "output_type": "execute_result"
    }
   ],
   "source": [
    "lst = []\n",
    "for reading in reader:\n",
    "    lst.append(json.loads(reading[\"Body\"]))\n",
    "\n",
    "json.dumps(lst[0:5])"
   ]
  },
  {
   "cell_type": "code",
   "execution_count": null,
   "metadata": {},
   "outputs": [],
   "source": []
  },
  {
   "cell_type": "markdown",
   "metadata": {},
   "source": [
    "# Fetch all avro format event hub blob files from Azure Blob Storage"
   ]
  },
  {
   "cell_type": "code",
   "execution_count": 75,
   "metadata": {},
   "outputs": [
    {
     "name": "stdout",
     "output_type": "stream",
     "text": [
      "The dotenv extension is already loaded. To reload it, use:\n",
      "  %reload_ext dotenv\n"
     ]
    }
   ],
   "source": [
    "# Rename \".env_example\" file to \".env\" then fill out your conenction string values\n",
    "from dotenv import load_dotenv\n",
    "\n",
    "%load_ext dotenv\n",
    "%dotenv"
   ]
  },
  {
   "cell_type": "code",
   "execution_count": 76,
   "metadata": {},
   "outputs": [],
   "source": [
    "# Get event hub avro files from azure blob storage \n",
    "from azure.storage.blob import ContainerClient\n",
    "\n",
    "AZURE_STORAGE_CONN_STR = os.getenv(\"AZURE_STORAGE_CONN_STR\")\n",
    "AZURE_CONTAINTER_NAME = os.getenv(\"AZURE_CONTAINTER_NAME\")\n",
    "\n",
    "container = ContainerClient.from_connection_string(conn_str=AZURE_STORAGE_CONN_STR, container_name=AZURE_CONTAINTER_NAME)\n",
    "blob_list = container.list_blobs()"
   ]
  },
  {
   "cell_type": "code",
   "execution_count": 77,
   "metadata": {},
   "outputs": [
    {
     "name": "stdout",
     "output_type": "stream",
     "text": [
      "Downloaded a non empty blob: dwevthubns03/dwehub03/0/2021/10/28/04/45/38.avro\n"
     ]
    }
   ],
   "source": [
    "lst = []\n",
    "\n",
    "for blob in blob_list:\n",
    "    # Content_length == 508 is an empty file, so process only content_length > 508 (skip empty files).        \n",
    "    if blob.size > 508:\n",
    "        print('Downloaded a non empty blob: ' + blob.name)\n",
    "        # Create a blob client for the blob.\n",
    "        blob_client = ContainerClient.get_blob_client(container, blob=blob.name)\n",
    "        # Construct a file name based on the blob name.\n",
    "        cleanName = str.replace(blob.name, '/', '_')\n",
    "        cleanName = os.path.join(os.getcwd(), cleanName)\n",
    "\n",
    "        with open(cleanName, \"wb+\") as my_file: # Open the file to write. Create it if it doesn't exist. \n",
    "            my_file.write(blob_client.download_blob().readall()) # Write blob contents into the file.\n",
    "        \n",
    "        reader = DataFileReader(open(cleanName, 'rb'), DatumReader())\n",
    "\n",
    "        for reading in reader:\n",
    "            lst.append(json.loads(reading[\"Body\"]))\n",
    "        \n",
    "        reader.close()\n",
    "\n",
    "        # Remove the downloaded file.\n",
    "        os.remove(cleanName)\n",
    "        \n",
    "        # Delete the blob from the Azure Storage Account container after it's read.\n",
    "        container.delete_blob(blob.name)"
   ]
  },
  {
   "cell_type": "code",
   "execution_count": 78,
   "metadata": {},
   "outputs": [
    {
     "data": {
      "text/plain": [
       "300"
      ]
     },
     "execution_count": 78,
     "metadata": {},
     "output_type": "execute_result"
    }
   ],
   "source": [
    "# check lst size\n",
    "len(lst)"
   ]
  },
  {
   "cell_type": "code",
   "execution_count": 79,
   "metadata": {},
   "outputs": [
    {
     "data": {
      "text/plain": [
       "'[{\"product_num\": 6, \"product_price\": 8858, \"product_description\": \"LEFub5WKgA\", \"product_production_dt\": \"2021-10-28 04:45:38.467946\"}, {\"product_num\": 9, \"product_price\": 3599, \"product_description\": \"0vwFk4Otb7\", \"product_production_dt\": \"2021-10-28 04:45:39.469353\"}, {\"product_num\": 5, \"product_price\": 182, \"product_description\": \"M9CRcxiIOM\", \"product_production_dt\": \"2021-10-28 04:45:40.470992\"}, {\"product_num\": 9, \"product_price\": 4927, \"product_description\": \"9K7WYBkhBB\", \"product_production_dt\": \"2021-10-28 04:45:41.473058\"}, {\"product_num\": 7, \"product_price\": 8177, \"product_description\": \"s092wnmCFu\", \"product_production_dt\": \"2021-10-28 04:45:42.475711\"}]'"
      ]
     },
     "execution_count": 79,
     "metadata": {},
     "output_type": "execute_result"
    }
   ],
   "source": [
    "# show sample result\n",
    "json.dumps(lst[0:5])"
   ]
  },
  {
   "cell_type": "code",
   "execution_count": null,
   "metadata": {},
   "outputs": [],
   "source": []
  }
 ],
 "metadata": {
  "interpreter": {
   "hash": "2dc7032ab626f309de151a2ff624cf97a71a220a2241c75de2104af0b4730be9"
  },
  "kernelspec": {
   "display_name": "Python 3.8.12 64-bit ('apache-avro': conda)",
   "name": "python3"
  },
  "language_info": {
   "codemirror_mode": {
    "name": "ipython",
    "version": 3
   },
   "file_extension": ".py",
   "mimetype": "text/x-python",
   "name": "python",
   "nbconvert_exporter": "python",
   "pygments_lexer": "ipython3",
   "version": "3.8.12"
  },
  "orig_nbformat": 4
 },
 "nbformat": 4,
 "nbformat_minor": 2
}
